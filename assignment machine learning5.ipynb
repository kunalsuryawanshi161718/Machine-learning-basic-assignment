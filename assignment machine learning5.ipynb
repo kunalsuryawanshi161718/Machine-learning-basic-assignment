{
 "cells": [
  {
   "cell_type": "markdown",
   "id": "48cb7638",
   "metadata": {},
   "source": [
    "## 1. What are the key tasks that machine learning entails? What does data pre-processing imply?\n",
    "Ans: - \n",
    "•\tThe quality and quantity of data is very important in term of collecting the data that you are going to feed in your machine.\n",
    "\n",
    "•\tvisualize the data and balance the features if there is any correlation between features, we can filter it and we can reduce the dimension.\n",
    "\n",
    "•\tChoosing the correct model for the project. We can use algorithms of classification, prediction, linear regression, clustering, i.e. k-means or K-Nearest Neighbour, Deep Learning, i.e Neural Networks, Bayesian, etc.\n",
    "\n",
    "•\tYou will need to train the datasets to run smoothly and see an incremental improvement in the prediction rate.\n",
    "\n",
    "•\tCheck out the accuracy of the modal\n",
    "\n",
    "•\tAccording to the accuracy we can adjust overfitting and underfitting curve or we can set the learning rate parameter.\n",
    "\n",
    "\n",
    "\n",
    "## 2. Describe quantitative and qualitative data in depth. Make a distinction between the two.\n",
    "Ans: - Quantitative and qualitative data provide different outcomes, and are often used together to get a full picture of a population. For example, if data are collected on annual income (quantitative), occupation data (qualitative) could also be gathered to get more detail on the average annual income for each type of occupation. Quantitative data are measures of values or counts and are expressed as numbers.\n",
    "Quantitative data are data about numeric variables (e.g. how many; how much; or how often).\n",
    "Qualitative data are measures of 'types' and may be represented by a name, symbol, or a number code.\n",
    "Qualitative data are data about categorical variables.\n",
    "\n",
    "## 3. Create a basic data collection that includes some sample records. Have at least one attribute from each of the machine learning data types."
   ]
  },
  {
   "cell_type": "code",
   "execution_count": 8,
   "id": "15ab827c",
   "metadata": {},
   "outputs": [],
   "source": [
    "data = {\n",
    "    \"names\":{\"kunal, amey, kranti\"},\"roll no\":{45,94,97},\"class\":{\"F.Y\",\"S.Y\"},\"grade\":{\"B\",\"A+\",\"A+\"}\n",
    "}"
   ]
  },
  {
   "cell_type": "code",
   "execution_count": 9,
   "id": "76072fea",
   "metadata": {},
   "outputs": [
    {
     "data": {
      "text/plain": [
       "{'names': {'kunal, amey, kranti'},\n",
       " 'roll no': {45, 94, 97},\n",
       " 'class': {'F.Y', 'S.Y'},\n",
       " 'grade': {'A+', 'B'}}"
      ]
     },
     "execution_count": 9,
     "metadata": {},
     "output_type": "execute_result"
    }
   ],
   "source": [
    "data"
   ]
  },
  {
   "cell_type": "markdown",
   "id": "e914206a",
   "metadata": {},
   "source": [
    "## 4. What are the various causes of machine learning data issues? What are the ramifications?\n",
    "Ans: - Lack of data\n",
    "\n",
    "       scattered type of data\n",
    "\n",
    "       correlation between feature\n",
    "\n",
    "       outliers\n",
    "\n",
    "       low number of data points"
   ]
  },
  {
   "cell_type": "markdown",
   "id": "d857849f",
   "metadata": {},
   "source": [
    "## 5. Demonstrate various approaches to categorical data exploration with appropriate examples."
   ]
  },
  {
   "cell_type": "markdown",
   "id": "b8e0413e",
   "metadata": {},
   "source": [
    "Categorical features can only take on a limited, and usually fixed, number of possible values. For example, if a dataset is about information related to users, then you will typically find features like country, gender, age group, etc. Alternatively, if the data you're working with is related to products, you will find features like product type, manufacturer, seller and so on.\n",
    "\n",
    "These are all categorical features in your dataset. These features are typically stored as text values which represent various traits of the observations. For example, gender is described as Male (M) or Female (F), product type could be described as electronics, apparels, food etc."
   ]
  },
  {
   "cell_type": "markdown",
   "id": "65e6eb47",
   "metadata": {},
   "source": [
    "## 6. How would the learning activity be affected if certain variables have missing values? Having said that, what can be done about it?"
   ]
  },
  {
   "cell_type": "markdown",
   "id": "025d8ce7",
   "metadata": {},
   "source": [
    "Missing values present in the dataset can impact the performance of the model by creating a bias in the dataset. This bias can create a lack of relatability and trustworthiness in the dataset. The loss in values might contain crucial insights or information for model development."
   ]
  },
  {
   "cell_type": "markdown",
   "id": "bc0ded33",
   "metadata": {},
   "source": [
    "The values missing in the dataset can be missed intentionally, randomly, or missed out for a reason. So missing data is considered a problem and needs to be handled before proceeding to the next pipeline of model development.\n"
   ]
  },
  {
   "cell_type": "markdown",
   "id": "d6beed55",
   "metadata": {},
   "source": [
    "## 7. Describe the various methods for dealing with missing data values in depth."
   ]
  },
  {
   "cell_type": "markdown",
   "id": "d13f7810",
   "metadata": {},
   "source": [
    " there are few ways to handle missing values in the dataset:\n",
    " \n",
    "1-Deleting Rows with missing values: Missing values can be handled by deleting the rows or columns having null values. If columns have more than half of the rows as null then the entire column can be dropped.\n",
    "\n",
    "2-Impute missing values for continuous variable:Columns in the dataset which are having numeric continuous values can be replaced with the mean, median, or mode of remaining values in the column. This method can prevent the loss of data compared to the earlier method.\n",
    "\n",
    "3-Impute missing values for categorical variable: When missing values is from categorical columns (string or numerical) then the missing values can be replaced with the most frequent category. If the number of missing values is very large then it can be replaced with a new category.\n",
    "\n",
    "4-Other Imputation Methods: Depending on the nature of the data or data type, some other imputation methods may be more appropriate to impute missing values\n",
    "\n",
    "5-Using Algorithms that support missing values: All the machine learning algorithms don’t support missing values but some ML algorithms are robust to missing values in the dataset. The k-NN algorithm can ignore a column from a distance measure when a value is missing. Naive Bayes can also support missing values when making a prediction. These algorithms can be used when the dataset contains null or missing values.\n",
    "\n",
    "6-Prediction of missing values\n",
    "\n",
    "7-Imputation using Deep Learning Library — Datawig"
   ]
  },
  {
   "cell_type": "markdown",
   "id": "e5b67d0d",
   "metadata": {},
   "source": [
    "## 8. What are the various data pre-processing techniques? Explain dimensionality reduction and function selection in a few words."
   ]
  },
  {
   "cell_type": "markdown",
   "id": "9adbd930",
   "metadata": {},
   "source": [
    "DATA PREPROCESSING TECHNIQUES\n",
    "\n",
    "Data Cleaning by missing and noicy data\n",
    "\n",
    "data integration\n",
    "\n",
    "data transformation\n",
    "\n",
    "data reduction\n",
    "\n",
    "### dimensional reduction:- \n",
    "A huge number of features may be found in most real-world datasets. Consider an image processing problem: there could be hundreds of features, also known as dimensions, to deal with. As the name suggests, dimensionality reduction seeks to minimize the number of features — but not just by selecting a sample of features from the feature set, which is something else entirely — Feature Subset Selection or feature selection."
   ]
  },
  {
   "cell_type": "markdown",
   "id": "d7119b2d",
   "metadata": {},
   "source": [
    "## 9.  What is the IQR? What criteria are used to assess it?\n",
    "Ans: - \n",
    "Any set of data can be described by its five-number summary. These five numbers, which give you the information you need to find patterns and outliers, consist of (in ascending order):\n",
    "\n",
    "The minimum or lowest value of the dataset\n",
    "\n",
    "The first quartile Q1, which represents a quarter of the way through the list of all data\n",
    "\n",
    "The median of the data set, which represents the midpoint of the whole list of data\n",
    "\n",
    "The third quartile Q3, which represents three-quarters of the way through the list of all data\n",
    "\n",
    "The maximum or highest value of the data set."
   ]
  },
  {
   "cell_type": "markdown",
   "id": "cedfb65a",
   "metadata": {},
   "source": [
    "## 10. Make brief notes on any two of the following:"
   ]
  },
  {
   "cell_type": "markdown",
   "id": "4aa2a201",
   "metadata": {},
   "source": [
    "### 1. The gap between the quartiles"
   ]
  },
  {
   "cell_type": "markdown",
   "id": "3f82c286",
   "metadata": {},
   "source": [
    "it is the range of the middle half of the data that shows how spread out the data is.which is a measure of variability around the median. The interquartile range is simply calculated as the difference between the first and third quartile: Q3–Q1."
   ]
  },
  {
   "cell_type": "markdown",
   "id": "50ca3ffb",
   "metadata": {},
   "source": [
    "### 2- Use a cross-tab"
   ]
  },
  {
   "cell_type": "markdown",
   "id": "4a6807f1",
   "metadata": {},
   "source": [
    "\n",
    "Cross tabs or cross tabulation are only used to find relations between two categorical variables where one categorical variable value would be giving row data and the other variable would give column data. Several tests like the chi square test can help find relations based on the cross tab.\n",
    "\n",
    "## 11. Make a comparison between:\n",
    "### ii. Histogram and box plot\n",
    "Histograms are data visualizations used for continous quantitative data. Box Plots are data visualizations used for describing any quantitative data.\n",
    "\n",
    "Histograms are used for checking the distribution type. Box Plots are used for describing data in 5 point summary and detecting outliers in data.\n",
    "\n",
    "Granularity can be changed using bins in Histograms. Box Plots do no feature any control over granularity.\n",
    "\n",
    "### iii. The average and median\n",
    "Average is a measure of numerical centrality of a distribution. Median is a measure of positional centrality of a distribution\n",
    "\n",
    "Average can also be referred to as the value that is closest to most number of values in a data. Median can also be referred to as the value which is exactly in the middle of a distribution.\n",
    "\n",
    "Averages are affected by presence of outliers. Medians are not affected by outliers."
   ]
  },
  {
   "cell_type": "code",
   "execution_count": null,
   "id": "f6cc3233",
   "metadata": {},
   "outputs": [],
   "source": []
  }
 ],
 "metadata": {
  "kernelspec": {
   "display_name": "Python 3",
   "language": "python",
   "name": "python3"
  },
  "language_info": {
   "codemirror_mode": {
    "name": "ipython",
    "version": 3
   },
   "file_extension": ".py",
   "mimetype": "text/x-python",
   "name": "python",
   "nbconvert_exporter": "python",
   "pygments_lexer": "ipython3",
   "version": "3.8.8"
  }
 },
 "nbformat": 4,
 "nbformat_minor": 5
}
